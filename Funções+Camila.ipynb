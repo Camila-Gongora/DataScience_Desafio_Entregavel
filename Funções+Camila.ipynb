{
 "cells": [
  {
   "cell_type": "markdown",
   "id": "a89843bb-bcc7-4782-ba6f-f2febe0cc02c",
   "metadata": {},
   "source": [
    "# Desafio Entregável - Turma 40120\n",
    "Grupo: André, Bruno, Caio e Camila "
   ]
  },
  {
   "cell_type": "markdown",
   "id": "85ff19d6-6776-4de6-8467-8d4adbba8765",
   "metadata": {},
   "source": [
    "# Desafio 1\n",
    "Escrever uma função para calcular o fatorial de um número qualquer."
   ]
  },
  {
   "cell_type": "code",
   "execution_count": 7,
   "id": "7d360ca7-4752-4834-b9a8-2e9da834636a",
   "metadata": {},
   "outputs": [
    {
     "name": "stdin",
     "output_type": "stream",
     "text": [
      "Insira o número do fatorial que deseja calcular:  5\n"
     ]
    },
    {
     "name": "stdout",
     "output_type": "stream",
     "text": [
      "120\n"
     ]
    }
   ],
   "source": [
    "n = int(input('Insira o número do fatorial que deseja calcular: '))\n",
    "fatorial = 1\n",
    "for i in range(1,n+1):\n",
    "    fatorial *= i\n",
    "print(fatorial)"
   ]
  },
  {
   "cell_type": "code",
   "execution_count": 10,
   "id": "39a79bb8-18da-4844-ba5e-ad1025ac335e",
   "metadata": {},
   "outputs": [],
   "source": [
    "def fatorial(n):\n",
    "    fatorial = 1\n",
    "    for i in range(1,n+1):\n",
    "        fatorial *= i\n",
    "    return fatorial    "
   ]
  },
  {
   "cell_type": "code",
   "execution_count": 11,
   "id": "33e1ce96-eda7-4a19-a38d-092f697bacda",
   "metadata": {},
   "outputs": [
    {
     "data": {
      "text/plain": [
       "120"
      ]
     },
     "execution_count": 11,
     "metadata": {},
     "output_type": "execute_result"
    }
   ],
   "source": [
    "fatorial(5)"
   ]
  },
  {
   "cell_type": "code",
   "execution_count": 12,
   "id": "918adc79-22d9-473e-adab-3ba901a27bde",
   "metadata": {},
   "outputs": [
    {
     "data": {
      "text/plain": [
       "6"
      ]
     },
     "execution_count": 12,
     "metadata": {},
     "output_type": "execute_result"
    }
   ],
   "source": [
    "fatorial(3)"
   ]
  },
  {
   "cell_type": "markdown",
   "id": "b978a7b0-fc2f-46fa-bfb2-f0528ecfb835",
   "metadata": {},
   "source": [
    "# Desafio 2\n",
    "Escrever uma função para calcular a soma de uma série começando por um número qualquer e terminando em outro número que deve ser maior que o primeiro."
   ]
  },
  {
   "cell_type": "code",
   "execution_count": 21,
   "id": "4f1fe16b-bbc8-4e5c-8159-2765ede118f0",
   "metadata": {},
   "outputs": [
    {
     "name": "stdin",
     "output_type": "stream",
     "text": [
      "Insira o número que deseja começar a soma:  5\n",
      "Insira o número que deseja terminar a soma:  2\n"
     ]
    },
    {
     "name": "stdout",
     "output_type": "stream",
     "text": [
      "O número de término não pode ser menor que o do começo.\n"
     ]
    }
   ],
   "source": [
    "x = int(input('Insira o número que deseja começar a soma: '))\n",
    "y = int(input('Insira o número que deseja terminar a soma: '))\n",
    "if x < y: \n",
    "    soma = 0\n",
    "    for i in range(x,y+1):\n",
    "        soma += i\n",
    "    print(soma)\n",
    "else:\n",
    "    print('O número de término não pode ser menor que o do começo.')"
   ]
  },
  {
   "cell_type": "code",
   "execution_count": 28,
   "id": "61c808b4-a11e-47ff-b2e8-ff9f144ce12f",
   "metadata": {},
   "outputs": [],
   "source": [
    "def soma(x,y):\n",
    "    if x < y: \n",
    "        soma = 0\n",
    "        for i in range(x,y+1):\n",
    "            soma += i\n",
    "        return soma\n",
    "    else:\n",
    "        print('O número de término não pode ser menor que o do começo.')"
   ]
  },
  {
   "cell_type": "code",
   "execution_count": 30,
   "id": "08002667-ddcf-4f60-ab90-158ad640243b",
   "metadata": {},
   "outputs": [
    {
     "data": {
      "text/plain": [
       "15"
      ]
     },
     "execution_count": 30,
     "metadata": {},
     "output_type": "execute_result"
    }
   ],
   "source": [
    "soma(1,5)"
   ]
  },
  {
   "cell_type": "code",
   "execution_count": 29,
   "id": "40c611f9-6705-47bc-b676-d1cf1d386809",
   "metadata": {},
   "outputs": [
    {
     "name": "stdout",
     "output_type": "stream",
     "text": [
      "O número de término não pode ser menor que o do começo.\n"
     ]
    }
   ],
   "source": [
    "soma(5,1)"
   ]
  },
  {
   "cell_type": "code",
   "execution_count": 31,
   "id": "a36594b2-8bd5-4437-a8d3-7205ca4d3aac",
   "metadata": {},
   "outputs": [
    {
     "data": {
      "text/plain": [
       "9"
      ]
     },
     "execution_count": 31,
     "metadata": {},
     "output_type": "execute_result"
    }
   ],
   "source": [
    "soma(2,4)"
   ]
  }
 ],
 "metadata": {
  "kernelspec": {
   "display_name": "Python 3 (ipykernel)",
   "language": "python",
   "name": "python3"
  },
  "language_info": {
   "codemirror_mode": {
    "name": "ipython",
    "version": 3
   },
   "file_extension": ".py",
   "mimetype": "text/x-python",
   "name": "python",
   "nbconvert_exporter": "python",
   "pygments_lexer": "ipython3",
   "version": "3.9.12"
  }
 },
 "nbformat": 4,
 "nbformat_minor": 5
}
