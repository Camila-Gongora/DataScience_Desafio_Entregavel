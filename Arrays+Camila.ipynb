{
 "cells": [
  {
   "cell_type": "markdown",
   "id": "e89d7e8e-1b6d-4ac7-9ee4-3049f4e9f8ee",
   "metadata": {},
   "source": [
    "# Desafio Entregável - Turma 40120\n",
    "\n",
    "Grupo: André, Camila"
   ]
  },
  {
   "cell_type": "markdown",
   "id": "f78ca1c2-d07c-4776-9ba4-60d0fc103cc9",
   "metadata": {},
   "source": [
    "# Desafio 1\n",
    "\n",
    "Gerar um array aleatório de 100 elementos. Calcular a mediana correspondente."
   ]
  },
  {
   "cell_type": "code",
   "execution_count": 1,
   "id": "317f5c90-d503-4f9f-a341-4ced78de235b",
   "metadata": {},
   "outputs": [
    {
     "data": {
      "text/plain": [
       "array([30, 51, 76, 29, 58, 10, 15, 93, 28, 41, 80, 21, 70, 75, 40, 34, 69,\n",
       "       72, 39, 20, 81,  9, 32, 75, 14, 63, 70, 27, 17, 53, 40, 19,  0, 87,\n",
       "       32, 55, 91, 46,  5, 55, 50, 87, 50, 17, 43, 45, 17, 67, 36, 67, 55,\n",
       "       99, 80, 74, 24, 20, 79, 24, 84,  5, 58, 19, 40,  1, 82, 91, 80, 73,\n",
       "       20, 58, 68, 19, 88, 26, 13, 25, 46, 17, 26, 86, 22,  6, 49, 34, 76,\n",
       "       67, 43, 96, 77, 65, 28, 53, 31, 13, 63, 80, 10, 54, 53, 78])"
      ]
     },
     "execution_count": 1,
     "metadata": {},
     "output_type": "execute_result"
    }
   ],
   "source": [
    "import numpy as np\n",
    "np_random = np.random.randint(100, size = 100)\n",
    "np_random"
   ]
  },
  {
   "cell_type": "code",
   "execution_count": 2,
   "id": "b1ad1382-0962-4a8e-993b-cdb95a752fe8",
   "metadata": {},
   "outputs": [
    {
     "data": {
      "text/plain": [
       "47.5"
      ]
     },
     "execution_count": 2,
     "metadata": {},
     "output_type": "execute_result"
    }
   ],
   "source": [
    "np.median(np_random)"
   ]
  },
  {
   "cell_type": "markdown",
   "id": "5f815930-7972-43cc-b4fe-1a25dbdc2d8f",
   "metadata": {},
   "source": [
    "# Desafio 2\n",
    "\n",
    "Relembrar os exercícios com funções para cálculo de fatorial e soma de séries da Aula 02. Repetir os dois exercícios, mas agora utilizar as novas operações aprendidas com os ndarrays."
   ]
  },
  {
   "cell_type": "markdown",
   "id": "8ccaa849-c3ed-4450-968b-3373770bc963",
   "metadata": {},
   "source": [
    "Desafio 1 - Escrever uma função para calcular o fatorial de um número qualquer."
   ]
  },
  {
   "cell_type": "code",
   "execution_count": 3,
   "id": "f496c2b1-1c8a-46b7-a718-ee677a8ef9bb",
   "metadata": {},
   "outputs": [
    {
     "name": "stdin",
     "output_type": "stream",
     "text": [
      "Insira o número do fatorial que deseja calcular:  5\n"
     ]
    },
    {
     "name": "stdout",
     "output_type": "stream",
     "text": [
      "[1 2 3 4 5]\n"
     ]
    },
    {
     "data": {
      "text/plain": [
       "120"
      ]
     },
     "execution_count": 3,
     "metadata": {},
     "output_type": "execute_result"
    }
   ],
   "source": [
    "n = int(input('Insira o número do fatorial que deseja calcular: '))\n",
    "np_fat = np.arange(1, n + 1)\n",
    "print(np_fat)\n",
    "np.prod(np_fat)"
   ]
  },
  {
   "cell_type": "code",
   "execution_count": 5,
   "id": "648c49ff-1b7f-407a-805d-656f36fff403",
   "metadata": {},
   "outputs": [
    {
     "name": "stdin",
     "output_type": "stream",
     "text": [
      "Insira o número do fatorial que deseja calcular:  3\n"
     ]
    },
    {
     "data": {
      "text/plain": [
       "6"
      ]
     },
     "execution_count": 5,
     "metadata": {},
     "output_type": "execute_result"
    }
   ],
   "source": [
    "n = int(input('Insira o número do fatorial que deseja calcular: '))\n",
    "np_fat = np.arange(1, n + 1)\n",
    "np.prod(np_fat)"
   ]
  },
  {
   "cell_type": "markdown",
   "id": "e96ef85b-09c7-47f6-b59b-10afbcf7c8ac",
   "metadata": {},
   "source": [
    "Desafio 2 - Escrever uma função para calcular a soma de uma série começando por um número qualquer e terminando em outro número que deve ser maior que o primeiro."
   ]
  },
  {
   "cell_type": "code",
   "execution_count": 6,
   "id": "c02bc293-f40a-4373-a526-5cfa95fe214e",
   "metadata": {},
   "outputs": [
    {
     "name": "stdin",
     "output_type": "stream",
     "text": [
      "Insira o número inicial da série:  1\n"
     ]
    },
    {
     "name": "stdout",
     "output_type": "stream",
     "text": [
      "LEMBRE-SE: O número final da série deve ser maior que o incial!\n"
     ]
    },
    {
     "name": "stdin",
     "output_type": "stream",
     "text": [
      "Insira o número final da série:  5\n"
     ]
    },
    {
     "name": "stdout",
     "output_type": "stream",
     "text": [
      "[1 2 3 4 5]\n"
     ]
    },
    {
     "data": {
      "text/plain": [
       "15"
      ]
     },
     "execution_count": 6,
     "metadata": {},
     "output_type": "execute_result"
    }
   ],
   "source": [
    "n_inicial = int(input('Insira o número inicial da série: '))\n",
    "print('LEMBRE-SE: O número final da série deve ser maior que o incial!')\n",
    "n_final = int(input('Insira o número final da série: '))\n",
    "np_soma_serie = np.arange(n_inicial, n_final + 1)\n",
    "print(np_soma_serie)\n",
    "np.sum(np_soma_serie)"
   ]
  },
  {
   "cell_type": "code",
   "execution_count": 7,
   "id": "fc41f678-c207-48b9-9593-28f385c89783",
   "metadata": {},
   "outputs": [
    {
     "name": "stdin",
     "output_type": "stream",
     "text": [
      "Insira o número inicial da série:  2\n"
     ]
    },
    {
     "name": "stdout",
     "output_type": "stream",
     "text": [
      "LEMBRE-SE: O número final da série deve ser maior que o incial!\n"
     ]
    },
    {
     "name": "stdin",
     "output_type": "stream",
     "text": [
      "Insira o número final da série:  4\n"
     ]
    },
    {
     "name": "stdout",
     "output_type": "stream",
     "text": [
      "[2 3 4]\n"
     ]
    },
    {
     "data": {
      "text/plain": [
       "9"
      ]
     },
     "execution_count": 7,
     "metadata": {},
     "output_type": "execute_result"
    }
   ],
   "source": [
    "n_inicial = int(input('Insira o número inicial da série: '))\n",
    "print('LEMBRE-SE: O número final da série deve ser maior que o incial!')\n",
    "n_final = int(input('Insira o número final da série: '))\n",
    "np_soma_serie = np.arange(n_inicial, n_final + 1)\n",
    "print(np_soma_serie)\n",
    "np.sum(np_soma_serie)"
   ]
  }
 ],
 "metadata": {
  "kernelspec": {
   "display_name": "Python 3 (ipykernel)",
   "language": "python",
   "name": "python3"
  },
  "language_info": {
   "codemirror_mode": {
    "name": "ipython",
    "version": 3
   },
   "file_extension": ".py",
   "mimetype": "text/x-python",
   "name": "python",
   "nbconvert_exporter": "python",
   "pygments_lexer": "ipython3",
   "version": "3.9.12"
  }
 },
 "nbformat": 4,
 "nbformat_minor": 5
}
